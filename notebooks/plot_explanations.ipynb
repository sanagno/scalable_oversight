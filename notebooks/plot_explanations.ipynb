{
 "cells": [
  {
   "cell_type": "code",
   "execution_count": null,
   "metadata": {},
   "outputs": [],
   "source": [
    "%load_ext autoreload\n",
    "%autoreload 2\n",
    "\n",
    "import os\n",
    "os.environ[\"CUDA_DEVICE_ORDER\"]=\"PCI_BUS_ID\"   # see issue #152\n",
    "os.environ[\"CUDA_VISIBLE_DEVICES\"]=\"0\""
   ]
  },
  {
   "cell_type": "code",
   "execution_count": null,
   "metadata": {},
   "outputs": [],
   "source": [
    "import torch\n",
    "from src.utils import load_pickle\n",
    "from src.dataset_utils import get_dataset\n",
    "from src.model_utils import get_model, get_model_generations\n",
    "from src.definitions import LEVELS\n",
    "from argparse import Namespace\n",
    "import numpy as np"
   ]
  },
  {
   "cell_type": "code",
   "execution_count": null,
   "metadata": {},
   "outputs": [],
   "source": [
    "model, tokenizer = get_model(\n",
    "    \"Llama-2-13b-chat\", None, \"int8\", torch.device(\"cuda\"), max_num_seqs=64\n",
    ")"
   ]
  },
  {
   "cell_type": "code",
   "execution_count": null,
   "metadata": {},
   "outputs": [],
   "source": [
    "datasets = [\n",
    "    \"piqa\",\n",
    "    \"siqa\",\n",
    "    \"commonsense_qa\",\n",
    "    \"openbookqa\",\n",
    "    \"wiki_qa\",\n",
    "    \"gpqa\",\n",
    "    \"quality\",\n",
    "    \"boolq\",\n",
    "]\n",
    "\n",
    "results = {}\n",
    "\n",
    "for dataset_name in datasets:\n",
    "    for level in LEVELS:\n",
    "        advocate_level = \"assistant\"\n",
    "\n",
    "        dataset = get_dataset(\n",
    "            args=Namespace(base_data_folder=\"./data\"),\n",
    "            dataset_name=dataset_name,\n",
    "            cache_dir=None,\n",
    "            advocate_level=\"None\",\n",
    "            return_raw=True,\n",
    "        )\n",
    "\n",
    "        advocate_dataset = load_pickle(\n",
    "            f\"data/advocate_data/{dataset_name}/Llama-2-70b-chat/generations_{advocate_level}.pkl\"\n",
    "        )\n",
    "\n",
    "        dataset_idx = 0\n",
    "        dataset_advocate_idx = 0\n",
    "\n",
    "        data = []\n",
    "\n",
    "        while dataset_advocate_idx < len(advocate_dataset):\n",
    "            answers = (\n",
    "                dataset[dataset_idx][\"correct_answers\"]\n",
    "                + dataset[dataset_idx][\"incorrect_answers\"]\n",
    "            )\n",
    "            for idx in range(len(answers)):\n",
    "                advocate_answer = answers[idx]\n",
    "                generation = advocate_dataset[dataset_advocate_idx][\"generation\"]\n",
    "                other_answers = [\n",
    "                    answer for answer in answers if answer != advocate_answer\n",
    "                ]\n",
    "\n",
    "                question = dataset[dataset_idx][\"question\"]\n",
    "\n",
    "                data.append(\n",
    "                    f\"Here is an explanation. ```{generation}```. Do you find that this explanation correclt reasons that the answer to the question '{question}' should be '{advocate_answer}'? Answer with just a Yes/No.\"\n",
    "                )\n",
    "\n",
    "                dataset_advocate_idx += 1\n",
    "            dataset_idx += 1\n",
    "\n",
    "        conversation_data = [\n",
    "            {\n",
    "                \"conversation_history\": [\n",
    "                    {\"role\": \"system\", \"content\": \"You are a helpful assistant.\"},\n",
    "                    {\"role\": \"user\", \"content\": x},\n",
    "                ]\n",
    "            }\n",
    "            for x in data\n",
    "        ]\n",
    "\n",
    "        generations = get_model_generations(\n",
    "            model, tokenizer, conversation_data, max_new_tokens=5, do_sample=False\n",
    "        )\n",
    "\n",
    "        res = np.mean(\n",
    "            [\n",
    "                True if \"yes\" in x[\"generation\"].lower() else False\n",
    "                for x in generations\n",
    "                if any([y in x[\"generation\"].lower() for y in [\"yes\", \"np\"]])\n",
    "            ]\n",
    "        )\n",
    "\n",
    "        print(dataset_name, level, res)\n",
    "        results[f\"{dataset_name}_{level}\"] = res\n",
    "\n",
    "print(results)"
   ]
  },
  {
   "cell_type": "code",
   "execution_count": null,
   "metadata": {},
   "outputs": [],
   "source": []
  },
  {
   "cell_type": "code",
   "execution_count": null,
   "metadata": {},
   "outputs": [],
   "source": []
  },
  {
   "cell_type": "code",
   "execution_count": null,
   "metadata": {},
   "outputs": [],
   "source": []
  },
  {
   "cell_type": "code",
   "execution_count": null,
   "metadata": {},
   "outputs": [],
   "source": []
  }
 ],
 "metadata": {
  "kernelspec": {
   "display_name": "transformers",
   "language": "python",
   "name": "python3"
  },
  "language_info": {
   "codemirror_mode": {
    "name": "ipython",
    "version": 3
   },
   "file_extension": ".py",
   "mimetype": "text/x-python",
   "name": "python",
   "nbconvert_exporter": "python",
   "pygments_lexer": "ipython3",
   "version": "3.10.9"
  }
 },
 "nbformat": 4,
 "nbformat_minor": 2
}
