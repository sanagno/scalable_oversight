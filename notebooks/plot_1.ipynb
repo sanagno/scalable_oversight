{
 "cells": [
  {
   "cell_type": "code",
   "execution_count": 1,
   "metadata": {},
   "outputs": [],
   "source": [
    "%load_ext autoreload\n",
    "%autoreload 2"
   ]
  },
  {
   "cell_type": "code",
   "execution_count": 7,
   "metadata": {},
   "outputs": [],
   "source": [
    "import os\n",
    "import time\n",
    "from argparse import Namespace\n",
    "\n",
    "import matplotlib.pyplot as plt\n",
    "import numpy as np\n",
    "import seaborn as sns\n",
    "\n",
    "sns.set_style(\"whitegrid\")\n",
    "from src.plotting_utils import get_instuction_following_percentage, get_last_exp_by_time\n",
    "from src.utils import load_pickle\n",
    "from src.dataset_utils import get_dataset\n",
    "from src.definitions import LEVELS\n",
    "from src.arguments import get_advocate_data_folder\n",
    "\n",
    "data_path = \"euler_logs/logs_16_03/\"\n",
    "model_advocate = \"Llama-2-70b-chat\"\n",
    "models = [\"Llama-2-70b-chat\", \"Mixtral\", \"falcon-40b\"]\n",
    "datasets = [\n",
    "    \"gpqa\",\n",
    "    \"quality\",\n",
    "    \"openbookqa\",\n",
    "    \"boolq\",\n",
    "    \"commonsense_qa\",\n",
    "    \"piqa\",\n",
    "    \"siqa\",\n",
    "    \"wiki_qa\",\n",
    "]"
   ]
  },
  {
   "cell_type": "code",
   "execution_count": 5,
   "metadata": {},
   "outputs": [],
   "source": [
    "# First let us calculate the random performance for each dataset\n",
    "CALCULATE_STATS = False\n",
    "\n",
    "if CALCULATE_STATS:\n",
    "    results = {}\n",
    "    for dataset_name in datasets:\n",
    "        dataset, choices, base_answer = get_dataset(\n",
    "            Namespace(base_data_folder=\"./data\"),\n",
    "            dataset_name,\n",
    "            None,\n",
    "            system_prompt=\"\",\n",
    "            is_advocate=False,\n",
    "            num_samples=None,\n",
    "            advocate_level=\"None\",\n",
    "            advocate_file=None,\n",
    "            include_explanation=False,\n",
    "        )\n",
    "\n",
    "        results[dataset_name] = np.mean(\n",
    "            [\n",
    "                len(dataset[i][\"correct_answers_idx\"])\n",
    "                / (\n",
    "                    len(dataset[i][\"correct_answers_idx\"])\n",
    "                    + len(dataset[i][\"wrong_answers_idx\"])\n",
    "                )\n",
    "                for i in range(len(dataset))\n",
    "            ]\n",
    "        )\n",
    "\n",
    "    print(results)"
   ]
  },
  {
   "cell_type": "markdown",
   "metadata": {},
   "source": [
    "## First let us check the instruction following"
   ]
  },
  {
   "cell_type": "code",
   "execution_count": 18,
   "metadata": {},
   "outputs": [],
   "source": [
    "for dataset_name in datasets:\n",
    "    break\n",
    "\n",
    "dataset_name = \"quality\"\n",
    "\n",
    "judge_level = \"assistant\"\n",
    "advocate_level = \"assistant\"\n",
    "include_explanation = True\n",
    "\n",
    "args = Namespace(\n",
    "    base_data_folder=\"./data\",\n",
    "    advocate_data_folder=get_advocate_data_folder(\n",
    "        \"./data\", dataset_name, model_advocate, None\n",
    "    ),\n",
    ")\n",
    "\n",
    "dataset = get_dataset(\n",
    "    args,\n",
    "    dataset_name,\n",
    "    None,\n",
    "    system_prompt=\"\",\n",
    "    is_advocate=False,\n",
    "    num_samples=None,\n",
    "    advocate_level=advocate_level,\n",
    "    advocate_file=None\n",
    "    if advocate_level not in LEVELS\n",
    "    else os.path.join(args.advocate_data_folder, f\"generations_{advocate_level}.pkl\"),\n",
    "    include_explanation=include_explanation,\n",
    ")[0]\n",
    "\n",
    "for model in models:\n",
    "    break\n",
    "\n",
    "# Load the data\n",
    "base_dir = os.path.join(data_path, model, dataset_name)\n",
    "exp = get_last_exp_by_time(os.listdir(base_dir))\n",
    "base_dir = os.path.join(base_dir, exp)\n",
    "\n",
    "filename = f\"probabilities_{judge_level}_{advocate_level}_{include_explanation}.pkl\""
   ]
  },
  {
   "cell_type": "code",
   "execution_count": 19,
   "metadata": {},
   "outputs": [],
   "source": [
    "probabilities = load_pickle(os.path.join(base_dir, filename))"
   ]
  },
  {
   "cell_type": "code",
   "execution_count": 20,
   "metadata": {},
   "outputs": [
    {
     "data": {
      "text/plain": [
       "0.25875"
      ]
     },
     "execution_count": 20,
     "metadata": {},
     "output_type": "execute_result"
    }
   ],
   "source": [
    "get_instuction_following_percentage(dataset, probabilities).mean()"
   ]
  },
  {
   "cell_type": "code",
   "execution_count": 27,
   "metadata": {},
   "outputs": [
    {
     "data": {
      "text/plain": [
       "1"
      ]
     },
     "execution_count": 27,
     "metadata": {},
     "output_type": "execute_result"
    }
   ],
   "source": []
  }
 ],
 "metadata": {
  "kernelspec": {
   "display_name": "transformers",
   "language": "python",
   "name": "python3"
  },
  "language_info": {
   "codemirror_mode": {
    "name": "ipython",
    "version": 3
   },
   "file_extension": ".py",
   "mimetype": "text/x-python",
   "name": "python",
   "nbconvert_exporter": "python",
   "pygments_lexer": "ipython3",
   "version": "3.10.9"
  }
 },
 "nbformat": 4,
 "nbformat_minor": 2
}
