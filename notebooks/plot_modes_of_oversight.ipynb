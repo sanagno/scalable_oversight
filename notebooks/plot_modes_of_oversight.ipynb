{
 "cells": [
  {
   "cell_type": "code",
   "execution_count": 1,
   "metadata": {},
   "outputs": [],
   "source": [
    "%load_ext autoreload\n",
    "%autoreload 2"
   ]
  },
  {
   "cell_type": "code",
   "execution_count": 3,
   "metadata": {},
   "outputs": [],
   "source": [
    "import os\n",
    "import time\n",
    "from argparse import Namespace\n",
    "\n",
    "import matplotlib.pyplot as plt\n",
    "import numpy as np\n",
    "import seaborn as sns\n",
    "\n",
    "sns.set_style(\"whitegrid\")\n",
    "\n",
    "from src.plotting_utils import GREG_PALLETTE"
   ]
  },
  {
   "cell_type": "code",
   "execution_count": 100,
   "metadata": {},
   "outputs": [
    {
     "data": {
      "image/png": "[encoded data removed]",
      "text/plain": [
       "<Figure size 800x300 with 1 Axes>"
      ]
     },
     "metadata": {},
     "output_type": "display_data"
    }
   ],
   "source": [
    "fig = plt.figure(figsize=(8, 3))\n",
    "ax = fig.add_subplot(111)\n",
    "\n",
    "# Unbiased\n",
    "# Correct Explanation\n",
    "# Adversarial Explanation\n",
    "# All explanations\n",
    "# Debate across explanation\n",
    "\n",
    "colors = [GREG_PALLETTE[i] for i in [0, 4, 8, 12]]\n",
    "\n",
    "ax.set_xlim([0.2, 1])\n",
    "ax.set_ylim([0, 1])\n",
    "\n",
    "# removing the default axis on all sides:\n",
    "for side in [\"bottom\", \"right\", \"top\", \"left\"]:\n",
    "    ax.spines[side].set_visible(False)\n",
    "\n",
    "# removing the axis ticks\n",
    "ax.set_xticks([])  # labels\n",
    "ax.set_yticks([])\n",
    "ax.xaxis.set_ticks_position(\"none\")  # tick markers\n",
    "ax.yaxis.set_ticks_position(\"none\")\n",
    "\n",
    "dps = fig.dpi_scale_trans.inverted()\n",
    "bbox = ax.get_window_extent().transformed(dps)\n",
    "width, height = bbox.width, bbox.height\n",
    "\n",
    "# # manual arrowhead width and length\n",
    "hw = 1.0 / 30.0\n",
    "hl = 1.0 / 40.0\n",
    "lw = 1.5  # axis line width\n",
    "ohg = 0.2  # arrow overhang\n",
    "\n",
    "# # compute matching arrowhead length and width\n",
    "yhw = hw * height / width\n",
    "yhl = hl * width / height\n",
    "\n",
    "points = [(0.45, 0.7), (0.65, 0.5), (0.25, 0.4), (0.77, 0.26)]\n",
    "texts = [\"Unbiased\", \"Correct\", \"Adversarial\", \"Debate\"]\n",
    "\n",
    "for i, (point, text) in enumerate(zip(points, texts)):\n",
    "    ax.scatter(*point, s=50, color=colors[i], edgecolor=\"k\", zorder=10, linewidths=0)\n",
    "    ax.text(\n",
    "        point[0] + 0.02,\n",
    "        point[1] + 0.09,\n",
    "        text,\n",
    "        fontsize=15,\n",
    "        va=\"center\",\n",
    "        color=colors[i],\n",
    "        bbox=dict(boxstyle=\"square\", ec=colors[i], fc=\"white\"),\n",
    "    )\n",
    "\n",
    "# # # draw x and y axis\n",
    "ax.arrow(\n",
    "    0.2,\n",
    "    0.0,\n",
    "    0.8,\n",
    "    0.0,\n",
    "    fc=\"k\",\n",
    "    ec=\"k\",\n",
    "    lw=lw,\n",
    "    head_width=hw,\n",
    "    head_length=hl,\n",
    "    overhang=ohg,\n",
    "    length_includes_head=True,\n",
    "    clip_on=False,\n",
    ")\n",
    "ax.text(0.98, 0.06, \"Truthfulness\", ha=\"right\", va=\"center\", fontsize=15)\n",
    "# plt.tight_layout()\n",
    "plt.savefig(\"figures/modes_of_oversight.pdf\", bbox_inches=\"tight\")\n",
    "plt.show()"
   ]
  }
 ],
 "metadata": {
  "kernelspec": {
   "display_name": "transformers",
   "language": "python",
   "name": "python3"
  },
  "language_info": {
   "codemirror_mode": {
    "name": "ipython",
    "version": 3
   },
   "file_extension": ".py",
   "mimetype": "text/x-python",
   "name": "python",
   "nbconvert_exporter": "python",
   "pygments_lexer": "ipython3",
   "version": "3.10.9"
  }
 },
 "nbformat": 4,
 "nbformat_minor": 2
}
